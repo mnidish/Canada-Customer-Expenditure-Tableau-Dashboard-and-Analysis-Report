{
  "nbformat": 4,
  "nbformat_minor": 0,
  "metadata": {
    "colab": {
      "provenance": []
    },
    "kernelspec": {
      "name": "python3",
      "display_name": "Python 3"
    },
    "language_info": {
      "name": "python"
    }
  },
  "cells": [
    {
      "cell_type": "code",
      "execution_count": null,
      "metadata": {
        "colab": {
          "base_uri": "https://localhost:8080/"
        },
        "id": "sOEkh62YKCPW",
        "outputId": "e6430227-0466-4fa8-9a20-7dd91a151d2a"
      },
      "outputs": [
        {
          "output_type": "stream",
          "name": "stdout",
          "text": [
            "Mounted at /content/drive\n"
          ]
        }
      ],
      "source": [
        "   from google.colab import drive\n",
        "   import matplotlib.pyplot as plt\n",
        "   import seaborn as sns\n",
        "   import difflib\n",
        "   drive.mount('/content/drive')"
      ]
    },
    {
      "cell_type": "code",
      "source": [],
      "metadata": {
        "id": "ovjYgMB2Rdyr"
      },
      "execution_count": null,
      "outputs": []
    },
    {
      "cell_type": "code",
      "source": [
        "import pandas as pd\n",
        "df = pd.read_csv('/content/drive/MyDrive/Annual Average House Hold expenditure in canada.csv')"
      ],
      "metadata": {
        "id": "BDkKoHJPKI1o"
      },
      "execution_count": null,
      "outputs": []
    },
    {
      "cell_type": "code",
      "source": [
        "df.head()\n",
        "df.shape"
      ],
      "metadata": {
        "colab": {
          "base_uri": "https://localhost:8080/"
        },
        "id": "rFQRAkMfMU72",
        "outputId": "fb17bd9a-53e0-4f27-f41f-a0e736edab88"
      },
      "execution_count": null,
      "outputs": [
        {
          "output_type": "execute_result",
          "data": {
            "text/plain": [
              "(272, 16)"
            ]
          },
          "metadata": {},
          "execution_count": 26
        }
      ]
    },
    {
      "cell_type": "code",
      "source": [
        "unique_categories = df['Household expenditures, summary-level categories'].unique()\n",
        "provinces = ['Atlantic Region','Newfoundland and Labrador','Prince Edward Island','Nova Scotia','New Brunswick','Quebec','Ontario','Prairie Region','Manitoba','Saskatchewan','British Columbia']"
      ],
      "metadata": {
        "id": "TrkysgXSKg7G"
      },
      "execution_count": null,
      "outputs": []
    },
    {
      "cell_type": "code",
      "source": [
        "provinces"
      ],
      "metadata": {
        "colab": {
          "base_uri": "https://localhost:8080/"
        },
        "id": "JcI0qAqmUV1e",
        "outputId": "29da6b02-123f-48e8-c5eb-9f3d1c1a83a2"
      },
      "execution_count": null,
      "outputs": [
        {
          "output_type": "execute_result",
          "data": {
            "text/plain": [
              "['Atlantic Region',\n",
              " 'Newfoundland and Labrador',\n",
              " 'Prince Edward Island',\n",
              " 'Nova Scotia',\n",
              " 'New Brunswick',\n",
              " 'Quebec',\n",
              " 'Ontario',\n",
              " 'Prairie Region',\n",
              " 'Manitoba',\n",
              " 'Saskatchewan',\n",
              " 'British Columbia']"
            ]
          },
          "metadata": {},
          "execution_count": 28
        }
      ]
    },
    {
      "cell_type": "code",
      "source": [
        "print(df['REF_DATE'].unique())\n",
        "print(len(df['REF_DATE'].unique()))"
      ],
      "metadata": {
        "colab": {
          "base_uri": "https://localhost:8080/"
        },
        "id": "kGTiyGZ6LpWG",
        "outputId": "9e5fa766-72d2-47eb-8cf5-c481a8561073"
      },
      "execution_count": null,
      "outputs": [
        {
          "output_type": "stream",
          "name": "stdout",
          "text": [
            "[2010 2011 2012 2013 2014 2015 2016 2017 2019 2021]\n",
            "10\n"
          ]
        }
      ]
    },
    {
      "cell_type": "code",
      "source": [
        "test_df = df.copy()\n",
        "test_df.shape"
      ],
      "metadata": {
        "colab": {
          "base_uri": "https://localhost:8080/"
        },
        "id": "G10VW8L8o_rU",
        "outputId": "bcdcd980-0f89-4e7e-9a36-be20b1ea603c"
      },
      "execution_count": null,
      "outputs": [
        {
          "output_type": "execute_result",
          "data": {
            "text/plain": [
              "(272, 16)"
            ]
          },
          "metadata": {},
          "execution_count": 30
        }
      ]
    },
    {
      "cell_type": "code",
      "source": [
        "min_value = 1\n",
        "max_value = 10\n",
        "for categories in unique_categories:\n",
        "    filtered_df = test_df[test_df['Household expenditures, summary-level categories'] == categories]\n",
        "    # min_value = filtered_df['VALUE'].min()\n",
        "    # max_value = filtered_df['VALUE'].max()\n",
        "    filtered_df['VALUE'] = filtered_df['VALUE'].apply(lambda x: random.randint(min_value, max_value))\n",
        "    imputed_df = imputed_df.append(filtered_df, ignore_index=True)\n",
        "\n",
        "imputed_df"
      ],
      "metadata": {
        "colab": {
          "base_uri": "https://localhost:8080/",
          "height": 1000
        },
        "id": "IHUf9xOopcft",
        "outputId": "4ebe10ed-3a0c-422b-9a70-282006ab19e5"
      },
      "execution_count": null,
      "outputs": [
        {
          "output_type": "stream",
          "name": "stderr",
          "text": [
            "<ipython-input-36-cd08e542ae90>:7: SettingWithCopyWarning: \n",
            "A value is trying to be set on a copy of a slice from a DataFrame.\n",
            "Try using .loc[row_indexer,col_indexer] = value instead\n",
            "\n",
            "See the caveats in the documentation: https://pandas.pydata.org/pandas-docs/stable/user_guide/indexing.html#returning-a-view-versus-a-copy\n",
            "  filtered_df['VALUE'] = filtered_df['VALUE'].apply(lambda x: random.randint(min_value, max_value))\n",
            "<ipython-input-36-cd08e542ae90>:8: FutureWarning: The frame.append method is deprecated and will be removed from pandas in a future version. Use pandas.concat instead.\n",
            "  imputed_df = imputed_df.append(filtered_df, ignore_index=True)\n"
          ]
        },
        {
          "output_type": "execute_result",
          "data": {
            "text/plain": [
              "        REF_DATE               GEO           DGUID  \\\n",
              "0           2010  British Columbia  2016A000011124   \n",
              "1           2011  British Columbia  2016A000011124   \n",
              "2           2012  British Columbia  2016A000011124   \n",
              "3           2013  British Columbia  2016A000011124   \n",
              "4           2014  British Columbia  2016A000011124   \n",
              "...          ...               ...             ...   \n",
              "278795      2015           Alberta  2016A000011124   \n",
              "278796      2016           Alberta  2016A000011124   \n",
              "278797      2017           Alberta  2016A000011124   \n",
              "278798      2019           Alberta  2016A000011124   \n",
              "278799      2021           Alberta  2016A000011124   \n",
              "\n",
              "                                Statistic  \\\n",
              "0       Average expenditure per household   \n",
              "1       Average expenditure per household   \n",
              "2       Average expenditure per household   \n",
              "3       Average expenditure per household   \n",
              "4       Average expenditure per household   \n",
              "...                                   ...   \n",
              "278795  Average expenditure per household   \n",
              "278796  Average expenditure per household   \n",
              "278797  Average expenditure per household   \n",
              "278798  Average expenditure per household   \n",
              "278799  Average expenditure per household   \n",
              "\n",
              "         Household expenditures, summary-level categories      UOM  UOM_ID  \\\n",
              "0                                       Total expenditure  Dollars      81   \n",
              "1                                       Total expenditure  Dollars      81   \n",
              "2                                       Total expenditure  Dollars      81   \n",
              "3                                       Total expenditure  Dollars      81   \n",
              "4                                       Total expenditure  Dollars      81   \n",
              "...                                                   ...      ...     ...   \n",
              "278795  Gifts of money, support payments and charitabl...  Dollars      81   \n",
              "278796  Gifts of money, support payments and charitabl...  Dollars      81   \n",
              "278797  Gifts of money, support payments and charitabl...  Dollars      81   \n",
              "278798  Gifts of money, support payments and charitabl...  Dollars      81   \n",
              "278799  Gifts of money, support payments and charitabl...  Dollars      81   \n",
              "\n",
              "       SCALAR_FACTOR  SCALAR_ID     VECTOR COORDINATE  VALUE  STATUS  SYMBOL  \\\n",
              "0              units          0  v54325508      1.1.1  73646     NaN     NaN   \n",
              "1              units          0  v54325508      1.1.1  87416     NaN     NaN   \n",
              "2              units          0  v54325508      1.1.1  87895     NaN     NaN   \n",
              "3              units          0  v54325508      1.1.1  82717     NaN     NaN   \n",
              "4              units          0  v54325508      1.1.1  84872     NaN     NaN   \n",
              "...              ...        ...        ...        ...    ...     ...     ...   \n",
              "278795         units          0  v54325549     1.1.42      7     NaN     NaN   \n",
              "278796         units          0  v54325549     1.1.42      8     NaN     NaN   \n",
              "278797         units          0  v54325549     1.1.42      5     NaN     NaN   \n",
              "278798         units          0  v54325549     1.1.42      8     NaN     NaN   \n",
              "278799         units          0  v54325549     1.1.42      8     NaN     NaN   \n",
              "\n",
              "        TERMINATED  DECIMALS  \n",
              "0              NaN         0  \n",
              "1              NaN         0  \n",
              "2              NaN         0  \n",
              "3              NaN         0  \n",
              "4              NaN         0  \n",
              "...            ...       ...  \n",
              "278795         NaN         0  \n",
              "278796         NaN         0  \n",
              "278797         NaN         0  \n",
              "278798         NaN         0  \n",
              "278799         NaN         0  \n",
              "\n",
              "[278800 rows x 16 columns]"
            ],
            "text/html": [
              "\n",
              "  <div id=\"df-be164093-786d-4ecc-8713-5f1ac27ac706\" class=\"colab-df-container\">\n",
              "    <div>\n",
              "<style scoped>\n",
              "    .dataframe tbody tr th:only-of-type {\n",
              "        vertical-align: middle;\n",
              "    }\n",
              "\n",
              "    .dataframe tbody tr th {\n",
              "        vertical-align: top;\n",
              "    }\n",
              "\n",
              "    .dataframe thead th {\n",
              "        text-align: right;\n",
              "    }\n",
              "</style>\n",
              "<table border=\"1\" class=\"dataframe\">\n",
              "  <thead>\n",
              "    <tr style=\"text-align: right;\">\n",
              "      <th></th>\n",
              "      <th>REF_DATE</th>\n",
              "      <th>GEO</th>\n",
              "      <th>DGUID</th>\n",
              "      <th>Statistic</th>\n",
              "      <th>Household expenditures, summary-level categories</th>\n",
              "      <th>UOM</th>\n",
              "      <th>UOM_ID</th>\n",
              "      <th>SCALAR_FACTOR</th>\n",
              "      <th>SCALAR_ID</th>\n",
              "      <th>VECTOR</th>\n",
              "      <th>COORDINATE</th>\n",
              "      <th>VALUE</th>\n",
              "      <th>STATUS</th>\n",
              "      <th>SYMBOL</th>\n",
              "      <th>TERMINATED</th>\n",
              "      <th>DECIMALS</th>\n",
              "    </tr>\n",
              "  </thead>\n",
              "  <tbody>\n",
              "    <tr>\n",
              "      <th>0</th>\n",
              "      <td>2010</td>\n",
              "      <td>British Columbia</td>\n",
              "      <td>2016A000011124</td>\n",
              "      <td>Average expenditure per household</td>\n",
              "      <td>Total expenditure</td>\n",
              "      <td>Dollars</td>\n",
              "      <td>81</td>\n",
              "      <td>units</td>\n",
              "      <td>0</td>\n",
              "      <td>v54325508</td>\n",
              "      <td>1.1.1</td>\n",
              "      <td>73646</td>\n",
              "      <td>NaN</td>\n",
              "      <td>NaN</td>\n",
              "      <td>NaN</td>\n",
              "      <td>0</td>\n",
              "    </tr>\n",
              "    <tr>\n",
              "      <th>1</th>\n",
              "      <td>2011</td>\n",
              "      <td>British Columbia</td>\n",
              "      <td>2016A000011124</td>\n",
              "      <td>Average expenditure per household</td>\n",
              "      <td>Total expenditure</td>\n",
              "      <td>Dollars</td>\n",
              "      <td>81</td>\n",
              "      <td>units</td>\n",
              "      <td>0</td>\n",
              "      <td>v54325508</td>\n",
              "      <td>1.1.1</td>\n",
              "      <td>87416</td>\n",
              "      <td>NaN</td>\n",
              "      <td>NaN</td>\n",
              "      <td>NaN</td>\n",
              "      <td>0</td>\n",
              "    </tr>\n",
              "    <tr>\n",
              "      <th>2</th>\n",
              "      <td>2012</td>\n",
              "      <td>British Columbia</td>\n",
              "      <td>2016A000011124</td>\n",
              "      <td>Average expenditure per household</td>\n",
              "      <td>Total expenditure</td>\n",
              "      <td>Dollars</td>\n",
              "      <td>81</td>\n",
              "      <td>units</td>\n",
              "      <td>0</td>\n",
              "      <td>v54325508</td>\n",
              "      <td>1.1.1</td>\n",
              "      <td>87895</td>\n",
              "      <td>NaN</td>\n",
              "      <td>NaN</td>\n",
              "      <td>NaN</td>\n",
              "      <td>0</td>\n",
              "    </tr>\n",
              "    <tr>\n",
              "      <th>3</th>\n",
              "      <td>2013</td>\n",
              "      <td>British Columbia</td>\n",
              "      <td>2016A000011124</td>\n",
              "      <td>Average expenditure per household</td>\n",
              "      <td>Total expenditure</td>\n",
              "      <td>Dollars</td>\n",
              "      <td>81</td>\n",
              "      <td>units</td>\n",
              "      <td>0</td>\n",
              "      <td>v54325508</td>\n",
              "      <td>1.1.1</td>\n",
              "      <td>82717</td>\n",
              "      <td>NaN</td>\n",
              "      <td>NaN</td>\n",
              "      <td>NaN</td>\n",
              "      <td>0</td>\n",
              "    </tr>\n",
              "    <tr>\n",
              "      <th>4</th>\n",
              "      <td>2014</td>\n",
              "      <td>British Columbia</td>\n",
              "      <td>2016A000011124</td>\n",
              "      <td>Average expenditure per household</td>\n",
              "      <td>Total expenditure</td>\n",
              "      <td>Dollars</td>\n",
              "      <td>81</td>\n",
              "      <td>units</td>\n",
              "      <td>0</td>\n",
              "      <td>v54325508</td>\n",
              "      <td>1.1.1</td>\n",
              "      <td>84872</td>\n",
              "      <td>NaN</td>\n",
              "      <td>NaN</td>\n",
              "      <td>NaN</td>\n",
              "      <td>0</td>\n",
              "    </tr>\n",
              "    <tr>\n",
              "      <th>...</th>\n",
              "      <td>...</td>\n",
              "      <td>...</td>\n",
              "      <td>...</td>\n",
              "      <td>...</td>\n",
              "      <td>...</td>\n",
              "      <td>...</td>\n",
              "      <td>...</td>\n",
              "      <td>...</td>\n",
              "      <td>...</td>\n",
              "      <td>...</td>\n",
              "      <td>...</td>\n",
              "      <td>...</td>\n",
              "      <td>...</td>\n",
              "      <td>...</td>\n",
              "      <td>...</td>\n",
              "      <td>...</td>\n",
              "    </tr>\n",
              "    <tr>\n",
              "      <th>278795</th>\n",
              "      <td>2015</td>\n",
              "      <td>Alberta</td>\n",
              "      <td>2016A000011124</td>\n",
              "      <td>Average expenditure per household</td>\n",
              "      <td>Gifts of money, support payments and charitabl...</td>\n",
              "      <td>Dollars</td>\n",
              "      <td>81</td>\n",
              "      <td>units</td>\n",
              "      <td>0</td>\n",
              "      <td>v54325549</td>\n",
              "      <td>1.1.42</td>\n",
              "      <td>7</td>\n",
              "      <td>NaN</td>\n",
              "      <td>NaN</td>\n",
              "      <td>NaN</td>\n",
              "      <td>0</td>\n",
              "    </tr>\n",
              "    <tr>\n",
              "      <th>278796</th>\n",
              "      <td>2016</td>\n",
              "      <td>Alberta</td>\n",
              "      <td>2016A000011124</td>\n",
              "      <td>Average expenditure per household</td>\n",
              "      <td>Gifts of money, support payments and charitabl...</td>\n",
              "      <td>Dollars</td>\n",
              "      <td>81</td>\n",
              "      <td>units</td>\n",
              "      <td>0</td>\n",
              "      <td>v54325549</td>\n",
              "      <td>1.1.42</td>\n",
              "      <td>8</td>\n",
              "      <td>NaN</td>\n",
              "      <td>NaN</td>\n",
              "      <td>NaN</td>\n",
              "      <td>0</td>\n",
              "    </tr>\n",
              "    <tr>\n",
              "      <th>278797</th>\n",
              "      <td>2017</td>\n",
              "      <td>Alberta</td>\n",
              "      <td>2016A000011124</td>\n",
              "      <td>Average expenditure per household</td>\n",
              "      <td>Gifts of money, support payments and charitabl...</td>\n",
              "      <td>Dollars</td>\n",
              "      <td>81</td>\n",
              "      <td>units</td>\n",
              "      <td>0</td>\n",
              "      <td>v54325549</td>\n",
              "      <td>1.1.42</td>\n",
              "      <td>5</td>\n",
              "      <td>NaN</td>\n",
              "      <td>NaN</td>\n",
              "      <td>NaN</td>\n",
              "      <td>0</td>\n",
              "    </tr>\n",
              "    <tr>\n",
              "      <th>278798</th>\n",
              "      <td>2019</td>\n",
              "      <td>Alberta</td>\n",
              "      <td>2016A000011124</td>\n",
              "      <td>Average expenditure per household</td>\n",
              "      <td>Gifts of money, support payments and charitabl...</td>\n",
              "      <td>Dollars</td>\n",
              "      <td>81</td>\n",
              "      <td>units</td>\n",
              "      <td>0</td>\n",
              "      <td>v54325549</td>\n",
              "      <td>1.1.42</td>\n",
              "      <td>8</td>\n",
              "      <td>NaN</td>\n",
              "      <td>NaN</td>\n",
              "      <td>NaN</td>\n",
              "      <td>0</td>\n",
              "    </tr>\n",
              "    <tr>\n",
              "      <th>278799</th>\n",
              "      <td>2021</td>\n",
              "      <td>Alberta</td>\n",
              "      <td>2016A000011124</td>\n",
              "      <td>Average expenditure per household</td>\n",
              "      <td>Gifts of money, support payments and charitabl...</td>\n",
              "      <td>Dollars</td>\n",
              "      <td>81</td>\n",
              "      <td>units</td>\n",
              "      <td>0</td>\n",
              "      <td>v54325549</td>\n",
              "      <td>1.1.42</td>\n",
              "      <td>8</td>\n",
              "      <td>NaN</td>\n",
              "      <td>NaN</td>\n",
              "      <td>NaN</td>\n",
              "      <td>0</td>\n",
              "    </tr>\n",
              "  </tbody>\n",
              "</table>\n",
              "<p>278800 rows × 16 columns</p>\n",
              "</div>\n",
              "    <div class=\"colab-df-buttons\">\n",
              "\n",
              "  <div class=\"colab-df-container\">\n",
              "    <button class=\"colab-df-convert\" onclick=\"convertToInteractive('df-be164093-786d-4ecc-8713-5f1ac27ac706')\"\n",
              "            title=\"Convert this dataframe to an interactive table.\"\n",
              "            style=\"display:none;\">\n",
              "\n",
              "  <svg xmlns=\"http://www.w3.org/2000/svg\" height=\"24px\" viewBox=\"0 -960 960 960\">\n",
              "    <path d=\"M120-120v-720h720v720H120Zm60-500h600v-160H180v160Zm220 220h160v-160H400v160Zm0 220h160v-160H400v160ZM180-400h160v-160H180v160Zm440 0h160v-160H620v160ZM180-180h160v-160H180v160Zm440 0h160v-160H620v160Z\"/>\n",
              "  </svg>\n",
              "    </button>\n",
              "\n",
              "  <style>\n",
              "    .colab-df-container {\n",
              "      display:flex;\n",
              "      gap: 12px;\n",
              "    }\n",
              "\n",
              "    .colab-df-convert {\n",
              "      background-color: #E8F0FE;\n",
              "      border: none;\n",
              "      border-radius: 50%;\n",
              "      cursor: pointer;\n",
              "      display: none;\n",
              "      fill: #1967D2;\n",
              "      height: 32px;\n",
              "      padding: 0 0 0 0;\n",
              "      width: 32px;\n",
              "    }\n",
              "\n",
              "    .colab-df-convert:hover {\n",
              "      background-color: #E2EBFA;\n",
              "      box-shadow: 0px 1px 2px rgba(60, 64, 67, 0.3), 0px 1px 3px 1px rgba(60, 64, 67, 0.15);\n",
              "      fill: #174EA6;\n",
              "    }\n",
              "\n",
              "    .colab-df-buttons div {\n",
              "      margin-bottom: 4px;\n",
              "    }\n",
              "\n",
              "    [theme=dark] .colab-df-convert {\n",
              "      background-color: #3B4455;\n",
              "      fill: #D2E3FC;\n",
              "    }\n",
              "\n",
              "    [theme=dark] .colab-df-convert:hover {\n",
              "      background-color: #434B5C;\n",
              "      box-shadow: 0px 1px 3px 1px rgba(0, 0, 0, 0.15);\n",
              "      filter: drop-shadow(0px 1px 2px rgba(0, 0, 0, 0.3));\n",
              "      fill: #FFFFFF;\n",
              "    }\n",
              "  </style>\n",
              "\n",
              "    <script>\n",
              "      const buttonEl =\n",
              "        document.querySelector('#df-be164093-786d-4ecc-8713-5f1ac27ac706 button.colab-df-convert');\n",
              "      buttonEl.style.display =\n",
              "        google.colab.kernel.accessAllowed ? 'block' : 'none';\n",
              "\n",
              "      async function convertToInteractive(key) {\n",
              "        const element = document.querySelector('#df-be164093-786d-4ecc-8713-5f1ac27ac706');\n",
              "        const dataTable =\n",
              "          await google.colab.kernel.invokeFunction('convertToInteractive',\n",
              "                                                    [key], {});\n",
              "        if (!dataTable) return;\n",
              "\n",
              "        const docLinkHtml = 'Like what you see? Visit the ' +\n",
              "          '<a target=\"_blank\" href=https://colab.research.google.com/notebooks/data_table.ipynb>data table notebook</a>'\n",
              "          + ' to learn more about interactive tables.';\n",
              "        element.innerHTML = '';\n",
              "        dataTable['output_type'] = 'display_data';\n",
              "        await google.colab.output.renderOutput(dataTable, element);\n",
              "        const docLink = document.createElement('div');\n",
              "        docLink.innerHTML = docLinkHtml;\n",
              "        element.appendChild(docLink);\n",
              "      }\n",
              "    </script>\n",
              "  </div>\n",
              "\n",
              "\n",
              "<div id=\"df-749692c9-4e34-4102-9244-3d8f3c65c332\">\n",
              "  <button class=\"colab-df-quickchart\" onclick=\"quickchart('df-749692c9-4e34-4102-9244-3d8f3c65c332')\"\n",
              "            title=\"Suggest charts\"\n",
              "            style=\"display:none;\">\n",
              "\n",
              "<svg xmlns=\"http://www.w3.org/2000/svg\" height=\"24px\"viewBox=\"0 0 24 24\"\n",
              "     width=\"24px\">\n",
              "    <g>\n",
              "        <path d=\"M19 3H5c-1.1 0-2 .9-2 2v14c0 1.1.9 2 2 2h14c1.1 0 2-.9 2-2V5c0-1.1-.9-2-2-2zM9 17H7v-7h2v7zm4 0h-2V7h2v10zm4 0h-2v-4h2v4z\"/>\n",
              "    </g>\n",
              "</svg>\n",
              "  </button>\n",
              "\n",
              "<style>\n",
              "  .colab-df-quickchart {\n",
              "      --bg-color: #E8F0FE;\n",
              "      --fill-color: #1967D2;\n",
              "      --hover-bg-color: #E2EBFA;\n",
              "      --hover-fill-color: #174EA6;\n",
              "      --disabled-fill-color: #AAA;\n",
              "      --disabled-bg-color: #DDD;\n",
              "  }\n",
              "\n",
              "  [theme=dark] .colab-df-quickchart {\n",
              "      --bg-color: #3B4455;\n",
              "      --fill-color: #D2E3FC;\n",
              "      --hover-bg-color: #434B5C;\n",
              "      --hover-fill-color: #FFFFFF;\n",
              "      --disabled-bg-color: #3B4455;\n",
              "      --disabled-fill-color: #666;\n",
              "  }\n",
              "\n",
              "  .colab-df-quickchart {\n",
              "    background-color: var(--bg-color);\n",
              "    border: none;\n",
              "    border-radius: 50%;\n",
              "    cursor: pointer;\n",
              "    display: none;\n",
              "    fill: var(--fill-color);\n",
              "    height: 32px;\n",
              "    padding: 0;\n",
              "    width: 32px;\n",
              "  }\n",
              "\n",
              "  .colab-df-quickchart:hover {\n",
              "    background-color: var(--hover-bg-color);\n",
              "    box-shadow: 0 1px 2px rgba(60, 64, 67, 0.3), 0 1px 3px 1px rgba(60, 64, 67, 0.15);\n",
              "    fill: var(--button-hover-fill-color);\n",
              "  }\n",
              "\n",
              "  .colab-df-quickchart-complete:disabled,\n",
              "  .colab-df-quickchart-complete:disabled:hover {\n",
              "    background-color: var(--disabled-bg-color);\n",
              "    fill: var(--disabled-fill-color);\n",
              "    box-shadow: none;\n",
              "  }\n",
              "\n",
              "  .colab-df-spinner {\n",
              "    border: 2px solid var(--fill-color);\n",
              "    border-color: transparent;\n",
              "    border-bottom-color: var(--fill-color);\n",
              "    animation:\n",
              "      spin 1s steps(1) infinite;\n",
              "  }\n",
              "\n",
              "  @keyframes spin {\n",
              "    0% {\n",
              "      border-color: transparent;\n",
              "      border-bottom-color: var(--fill-color);\n",
              "      border-left-color: var(--fill-color);\n",
              "    }\n",
              "    20% {\n",
              "      border-color: transparent;\n",
              "      border-left-color: var(--fill-color);\n",
              "      border-top-color: var(--fill-color);\n",
              "    }\n",
              "    30% {\n",
              "      border-color: transparent;\n",
              "      border-left-color: var(--fill-color);\n",
              "      border-top-color: var(--fill-color);\n",
              "      border-right-color: var(--fill-color);\n",
              "    }\n",
              "    40% {\n",
              "      border-color: transparent;\n",
              "      border-right-color: var(--fill-color);\n",
              "      border-top-color: var(--fill-color);\n",
              "    }\n",
              "    60% {\n",
              "      border-color: transparent;\n",
              "      border-right-color: var(--fill-color);\n",
              "    }\n",
              "    80% {\n",
              "      border-color: transparent;\n",
              "      border-right-color: var(--fill-color);\n",
              "      border-bottom-color: var(--fill-color);\n",
              "    }\n",
              "    90% {\n",
              "      border-color: transparent;\n",
              "      border-bottom-color: var(--fill-color);\n",
              "    }\n",
              "  }\n",
              "</style>\n",
              "\n",
              "  <script>\n",
              "    async function quickchart(key) {\n",
              "      const quickchartButtonEl =\n",
              "        document.querySelector('#' + key + ' button');\n",
              "      quickchartButtonEl.disabled = true;  // To prevent multiple clicks.\n",
              "      quickchartButtonEl.classList.add('colab-df-spinner');\n",
              "      try {\n",
              "        const charts = await google.colab.kernel.invokeFunction(\n",
              "            'suggestCharts', [key], {});\n",
              "      } catch (error) {\n",
              "        console.error('Error during call to suggestCharts:', error);\n",
              "      }\n",
              "      quickchartButtonEl.classList.remove('colab-df-spinner');\n",
              "      quickchartButtonEl.classList.add('colab-df-quickchart-complete');\n",
              "    }\n",
              "    (() => {\n",
              "      let quickchartButtonEl =\n",
              "        document.querySelector('#df-749692c9-4e34-4102-9244-3d8f3c65c332 button');\n",
              "      quickchartButtonEl.style.display =\n",
              "        google.colab.kernel.accessAllowed ? 'block' : 'none';\n",
              "    })();\n",
              "  </script>\n",
              "</div>\n",
              "    </div>\n",
              "  </div>\n"
            ]
          },
          "metadata": {},
          "execution_count": 36
        }
      ]
    },
    {
      "cell_type": "code",
      "source": [
        "import random\n",
        "# for province in provinces:\n",
        "#   # print(province)\n",
        "#   test_df = df.copy()\n",
        "#   test_df['GEO'] = test_df['GEO'].replace('Alberta',province)\n",
        "#   imputed_df = pd.DataFrame()\n",
        "#   for categories in unique_categories:\n",
        "#     filtered_df = test_df[test_df['Household expenditures, summary-level categories'] == categories]\n",
        "#     min_value = filtered_df['VALUE'].min()\n",
        "#     max_value = filtered_df['VALUE'].max()\n",
        "#     # print(min_value,max_value)\n",
        "#     filtered_df['VALUE'] = filtered_df['VALUE'].apply(lambda x: random.randint(min_value, max_value))\n",
        "#     imputed_df = imputed_df.append(filtered_df, ignore_index=False)\n",
        "#   df = df.append(imputed_df, ignore_index=False)\n",
        "\n"
      ],
      "metadata": {
        "id": "7kkCFucJNJms"
      },
      "execution_count": null,
      "outputs": []
    },
    {
      "cell_type": "code",
      "source": [
        "imputed_df.shape"
      ],
      "metadata": {
        "colab": {
          "base_uri": "https://localhost:8080/"
        },
        "id": "ICmzQ-HoNY3q",
        "outputId": "b52c395a-accc-40dc-a94c-f631d2de5e91"
      },
      "execution_count": null,
      "outputs": [
        {
          "output_type": "execute_result",
          "data": {
            "text/plain": [
              "(278528, 16)"
            ]
          },
          "metadata": {},
          "execution_count": 8
        }
      ]
    },
    {
      "cell_type": "code",
      "source": [
        "from google.colab import files\n"
      ],
      "metadata": {
        "id": "ttKWCQxuOK0T"
      },
      "execution_count": null,
      "outputs": []
    },
    {
      "cell_type": "code",
      "source": [
        "imputed_df.to_csv('imputation_test.csv', index=False)\n",
        "files.download('imputation_test.csv')"
      ],
      "metadata": {
        "colab": {
          "base_uri": "https://localhost:8080/",
          "height": 17
        },
        "id": "HOOmKfeWlGtg",
        "outputId": "93a2ec0b-eb31-45bd-87f0-32c1e49b910b"
      },
      "execution_count": null,
      "outputs": [
        {
          "output_type": "display_data",
          "data": {
            "text/plain": [
              "<IPython.core.display.Javascript object>"
            ],
            "application/javascript": [
              "\n",
              "    async function download(id, filename, size) {\n",
              "      if (!google.colab.kernel.accessAllowed) {\n",
              "        return;\n",
              "      }\n",
              "      const div = document.createElement('div');\n",
              "      const label = document.createElement('label');\n",
              "      label.textContent = `Downloading \"${filename}\": `;\n",
              "      div.appendChild(label);\n",
              "      const progress = document.createElement('progress');\n",
              "      progress.max = size;\n",
              "      div.appendChild(progress);\n",
              "      document.body.appendChild(div);\n",
              "\n",
              "      const buffers = [];\n",
              "      let downloaded = 0;\n",
              "\n",
              "      const channel = await google.colab.kernel.comms.open(id);\n",
              "      // Send a message to notify the kernel that we're ready.\n",
              "      channel.send({})\n",
              "\n",
              "      for await (const message of channel.messages) {\n",
              "        // Send a message to notify the kernel that we're ready.\n",
              "        channel.send({})\n",
              "        if (message.buffers) {\n",
              "          for (const buffer of message.buffers) {\n",
              "            buffers.push(buffer);\n",
              "            downloaded += buffer.byteLength;\n",
              "            progress.value = downloaded;\n",
              "          }\n",
              "        }\n",
              "      }\n",
              "      const blob = new Blob(buffers, {type: 'application/binary'});\n",
              "      const a = document.createElement('a');\n",
              "      a.href = window.URL.createObjectURL(blob);\n",
              "      a.download = filename;\n",
              "      div.appendChild(a);\n",
              "      a.click();\n",
              "      div.remove();\n",
              "    }\n",
              "  "
            ]
          },
          "metadata": {}
        },
        {
          "output_type": "display_data",
          "data": {
            "text/plain": [
              "<IPython.core.display.Javascript object>"
            ],
            "application/javascript": [
              "download(\"download_86ee4e80-a157-4ccb-82c0-d4a9b827967e\", \"imputation_test.csv\", 39992383)"
            ]
          },
          "metadata": {}
        }
      ]
    },
    {
      "cell_type": "code",
      "source": [
        "df_copy = imputed_df.copy()\n",
        "provinces = ['Atlantic Region','Newfoundland and Labrador','Prince Edward Island','Nova Scotia','New Brunswick','Quebec','Ontario','Prairie Region','Manitoba','Saskatchewan','British Columbia','Alberta']\n",
        "i = 0\n",
        "for i in range(10):\n",
        "  for province in provinces:\n",
        "    df_copy['GEO'] = df_copy['GEO'].replace('Atlantic Region', province, limit=1)\n",
        "  i = i+1"
      ],
      "metadata": {
        "id": "DU89mgEWThHU"
      },
      "execution_count": null,
      "outputs": []
    },
    {
      "cell_type": "code",
      "source": [
        "df_copy.to_csv('df_copy.csv', index=False)\n",
        "files.download('df_copy.csv')"
      ],
      "metadata": {
        "colab": {
          "base_uri": "https://localhost:8080/",
          "height": 17
        },
        "id": "sXd_3YEuBT9u",
        "outputId": "d2642bcb-e680-4a2d-ad6b-7511e3f06521"
      },
      "execution_count": null,
      "outputs": [
        {
          "output_type": "display_data",
          "data": {
            "text/plain": [
              "<IPython.core.display.Javascript object>"
            ],
            "application/javascript": [
              "\n",
              "    async function download(id, filename, size) {\n",
              "      if (!google.colab.kernel.accessAllowed) {\n",
              "        return;\n",
              "      }\n",
              "      const div = document.createElement('div');\n",
              "      const label = document.createElement('label');\n",
              "      label.textContent = `Downloading \"${filename}\": `;\n",
              "      div.appendChild(label);\n",
              "      const progress = document.createElement('progress');\n",
              "      progress.max = size;\n",
              "      div.appendChild(progress);\n",
              "      document.body.appendChild(div);\n",
              "\n",
              "      const buffers = [];\n",
              "      let downloaded = 0;\n",
              "\n",
              "      const channel = await google.colab.kernel.comms.open(id);\n",
              "      // Send a message to notify the kernel that we're ready.\n",
              "      channel.send({})\n",
              "\n",
              "      for await (const message of channel.messages) {\n",
              "        // Send a message to notify the kernel that we're ready.\n",
              "        channel.send({})\n",
              "        if (message.buffers) {\n",
              "          for (const buffer of message.buffers) {\n",
              "            buffers.push(buffer);\n",
              "            downloaded += buffer.byteLength;\n",
              "            progress.value = downloaded;\n",
              "          }\n",
              "        }\n",
              "      }\n",
              "      const blob = new Blob(buffers, {type: 'application/binary'});\n",
              "      const a = document.createElement('a');\n",
              "      a.href = window.URL.createObjectURL(blob);\n",
              "      a.download = filename;\n",
              "      div.appendChild(a);\n",
              "      a.click();\n",
              "      div.remove();\n",
              "    }\n",
              "  "
            ]
          },
          "metadata": {}
        },
        {
          "output_type": "display_data",
          "data": {
            "text/plain": [
              "<IPython.core.display.Javascript object>"
            ],
            "application/javascript": [
              "download(\"download_1e08b4e9-bdb9-462b-88ce-4b545d682cb9\", \"df_copy.csv\", 41385023)"
            ]
          },
          "metadata": {}
        }
      ]
    },
    {
      "cell_type": "code",
      "source": [],
      "metadata": {
        "id": "GMFt_TfUkzl0"
      },
      "execution_count": null,
      "outputs": []
    }
  ]
}